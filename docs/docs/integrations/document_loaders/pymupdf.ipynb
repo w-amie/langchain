{
 "cells": [
  {
   "cell_type": "markdown",
   "metadata": {},
   "source": [
    "# PyMuPDFLoader\n",
    "\n",
    "This notebook provides a quick overview for getting started with `PyMuPDF` [document loader](https://python.langchain.com/docs/concepts/document_loaders). For detailed documentation of all __ModuleName__Loader features and configurations head to the [API reference](https://python.langchain.com/api_reference/community/document_loaders/langchain_community.document_loaders.pdf.PyMuPDFLoader.html).\n",
    "\n",
    "  \n",
    "\n",
    "## Overview\n",
    "### Integration details\n",
    "\n",
    "| Class | Package | Local | Serializable | JS support|\n",
    "| :--- | :--- | :---: | :---: |  :---: |\n",
    "| [PyMuPDFLoader](https://python.langchain.com/api_reference/community/document_loaders/langchain_community.document_loaders.pdf.PyMuPDFLoader.html) | [langchain_community](https://python.langchain.com/api_reference/community/index.html) | ✅ | ❌ | ❌ | \n",
    "\n",
    "---------   \n",
    "\n",
    "### Loader features\n",
    "\n",
    "| Source | Document Lazy Loading | Native Async Support | Extract Images | Extract Tables |\n",
    "| :---: | :---: | :---: | :---: |:---: |\n",
    "| PyMuPDFLoader | ✅ | ❌ | ✅ | ✅ |\n",
    "\n",
    "  \n",
    "\n",
    "## Setup\n",
    "\n",
    "### Credentials\n",
    "\n",
    "No credentials are required to use PyMuPDFLoader"
   ]
  },
  {
   "cell_type": "markdown",
   "metadata": {},
   "source": [
    "If you want to get automated best in-class tracing of your model calls you can also set your [LangSmith](https://docs.smith.langchain.com/) API key by uncommenting below:"
   ]
  },
  {
   "cell_type": "code",
   "execution_count": 1,
   "metadata": {
    "ExecuteTime": {
     "end_time": "2025-01-17T13:24:30.653579Z",
     "start_time": "2025-01-17T13:24:30.650990Z"
    }
   },
   "outputs": [],
   "source": [
    "# os.environ[\"LANGSMITH_API_KEY\"] = getpass.getpass(\"Enter your LangSmith API key: \")\n",
    "# os.environ[\"LANGSMITH_TRACING\"] = \"true\""
   ]
  },
  {
   "cell_type": "markdown",
   "metadata": {},
   "source": [
    "### Installation\n",
    "\n",
    "Install **langchain_community** and **pymupdf**."
   ]
  },
  {
   "cell_type": "code",
   "execution_count": 2,
   "metadata": {
    "ExecuteTime": {
     "end_time": "2025-01-17T13:24:33.695776Z",
     "start_time": "2025-01-17T13:24:31.737888Z"
    }
   },
   "outputs": [
    {
     "name": "stdout",
     "output_type": "stream",
     "text": [
      "Note: you may need to restart the kernel to use updated packages.\n"
     ]
    }
   ],
   "source": [
    "%pip install -qU langchain_community pymupdf"
   ]
  },
  {
   "cell_type": "markdown",
   "metadata": {},
   "source": [
    "## Initialization\n",
    "\n",
    "Now we can instantiate our model object and load documents:"
   ]
  },
  {
   "cell_type": "code",
   "execution_count": 3,
   "metadata": {
    "ExecuteTime": {
     "end_time": "2025-01-17T11:06:44.403523Z",
     "start_time": "2025-01-17T11:06:43.736030Z"
    }
   },
   "outputs": [],
   "source": [
    "from langchain_community.document_loaders import PyMuPDFLoader\n",
    "\n",
    "file_path = \"./example_data/layout-parser-paper.pdf\"\n",
    "loader = PyMuPDFLoader(file_path)"
   ]
  },
  {
   "cell_type": "markdown",
   "metadata": {},
   "source": [
    "## Load"
   ]
  },
  {
   "cell_type": "code",
   "execution_count": 4,
   "metadata": {
    "ExecuteTime": {
     "end_time": "2025-01-17T11:06:46.138267Z",
     "start_time": "2025-01-17T11:06:46.001187Z"
    }
   },
   "outputs": [
    {
     "data": {
      "text/plain": [
       "Document(metadata={'producer': 'pdfTeX-1.40.21', 'creator': 'LaTeX with hyperref', 'creationdate': '2021-06-22T01:27:10+00:00', 'source': './example_data/layout-parser-paper.pdf', 'file_path': './example_data/layout-parser-paper.pdf', 'total_pages': 16, 'format': 'PDF 1.5', 'title': '', 'author': '', 'subject': '', 'keywords': '', 'moddate': '2021-06-22T01:27:10+00:00', 'trapped': '', 'page': 0}, page_content='LayoutParser: A Uniﬁed Toolkit for Deep\\nLearning Based Document Image Analysis\\nZejiang Shen1 (\\x00), Ruochen Zhang2, Melissa Dell3, Benjamin Charles Germain\\nLee4, Jacob Carlson3, and Weining Li5\\n1 Allen Institute for AI\\nshannons@allenai.org\\n2 Brown University\\nruochen zhang@brown.edu\\n3 Harvard University\\n{melissadell,jacob carlson}@fas.harvard.edu\\n4 University of Washington\\nbcgl@cs.washington.edu\\n5 University of Waterloo\\nw422li@uwaterloo.ca\\nAbstract. Recent advances in document image analysis (DIA) have been\\nprimarily driven by the application of neural networks. Ideally, research\\noutcomes could be easily deployed in production and extended for further\\ninvestigation. However, various factors like loosely organized codebases\\nand sophisticated model conﬁgurations complicate the easy reuse of im-\\nportant innovations by a wide audience. Though there have been on-going\\neﬀorts to improve reusability and simplify deep learning (DL) model\\ndevelopment in disciplines like natural language processing and computer\\nvision, none of them are optimized for challenges in the domain of DIA.\\nThis represents a major gap in the existing toolkit, as DIA is central to\\nacademic research across a wide range of disciplines in the social sciences\\nand humanities. This paper introduces LayoutParser, an open-source\\nlibrary for streamlining the usage of DL in DIA research and applica-\\ntions. The core LayoutParser library comes with a set of simple and\\nintuitive interfaces for applying and customizing DL models for layout de-\\ntection, character recognition, and many other document processing tasks.\\nTo promote extensibility, LayoutParser also incorporates a community\\nplatform for sharing both pre-trained models and full document digiti-\\nzation pipelines. We demonstrate that LayoutParser is helpful for both\\nlightweight and large-scale digitization pipelines in real-word use cases.\\nThe library is publicly available at https://layout-parser.github.io.\\nKeywords: Document Image Analysis · Deep Learning · Layout Analysis\\n· Character Recognition · Open Source library · Toolkit.\\n1\\nIntroduction\\nDeep Learning(DL)-based approaches are the state-of-the-art for a wide range of\\ndocument image analysis (DIA) tasks including document image classiﬁcation [11,\\narXiv:2103.15348v2  [cs.CV]  21 Jun 2021')"
      ]
     },
     "execution_count": 4,
     "metadata": {},
     "output_type": "execute_result"
    }
   ],
   "source": [
    "docs = loader.load()\n",
    "docs[0]"
   ]
  },
  {
   "cell_type": "code",
   "execution_count": 5,
   "metadata": {
    "ExecuteTime": {
     "end_time": "2025-01-17T11:06:46.646335Z",
     "start_time": "2025-01-17T11:06:46.642667Z"
    }
   },
   "outputs": [
    {
     "name": "stdout",
     "output_type": "stream",
     "text": [
      "{'producer': 'pdfTeX-1.40.21',\n",
      " 'creator': 'LaTeX with hyperref',\n",
      " 'creationdate': '2021-06-22T01:27:10+00:00',\n",
      " 'source': './example_data/layout-parser-paper.pdf',\n",
      " 'file_path': './example_data/layout-parser-paper.pdf',\n",
      " 'total_pages': 16,\n",
      " 'format': 'PDF 1.5',\n",
      " 'title': '',\n",
      " 'author': '',\n",
      " 'subject': '',\n",
      " 'keywords': '',\n",
      " 'moddate': '2021-06-22T01:27:10+00:00',\n",
      " 'trapped': '',\n",
      " 'page': 0}\n"
     ]
    }
   ],
   "source": [
    "import pprint\n",
    "\n",
    "pprint.pp(docs[0].metadata)"
   ]
  },
  {
   "cell_type": "markdown",
   "metadata": {},
   "source": [
    "## Lazy Load\n"
   ]
  },
  {
   "cell_type": "code",
   "execution_count": 6,
   "metadata": {
    "ExecuteTime": {
     "end_time": "2025-01-17T11:06:48.147692Z",
     "start_time": "2025-01-17T11:06:48.094257Z"
    }
   },
   "outputs": [
    {
     "data": {
      "text/plain": [
       "6"
      ]
     },
     "execution_count": 6,
     "metadata": {},
     "output_type": "execute_result"
    }
   ],
   "source": [
    "pages = []\n",
    "for doc in loader.lazy_load():\n",
    "    pages.append(doc)\n",
    "    if len(pages) >= 10:\n",
    "        # do some paged operation, e.g.\n",
    "        # index.upsert(page)\n",
    "\n",
    "        pages = []\n",
    "len(pages)"
   ]
  },
  {
   "cell_type": "code",
   "execution_count": 7,
   "metadata": {
    "ExecuteTime": {
     "end_time": "2025-01-17T11:06:50.003790Z",
     "start_time": "2025-01-17T11:06:50.000060Z"
    }
   },
   "outputs": [
    {
     "name": "stdout",
     "output_type": "stream",
     "text": [
      "LayoutParser: A Uniﬁed Toolkit for DL-Based DIA\n",
      "11\n",
      "focuses on precision, eﬃciency, and robustness. T\n",
      "{'producer': 'pdfTeX-1.40.21',\n",
      " 'creator': 'LaTeX with hyperref',\n",
      " 'creationdate': '2021-06-22T01:27:10+00:00',\n",
      " 'source': './example_data/layout-parser-paper.pdf',\n",
      " 'file_path': './example_data/layout-parser-paper.pdf',\n",
      " 'total_pages': 16,\n",
      " 'format': 'PDF 1.5',\n",
      " 'title': '',\n",
      " 'author': '',\n",
      " 'subject': '',\n",
      " 'keywords': '',\n",
      " 'moddate': '2021-06-22T01:27:10+00:00',\n",
      " 'trapped': '',\n",
      " 'page': 10}\n"
     ]
    }
   ],
   "source": [
    "print(pages[0].page_content[:100])\n",
    "pprint.pp(pages[0].metadata)"
   ]
  },
  {
   "cell_type": "markdown",
   "metadata": {},
   "source": [
    "The metadata attribute contains at least the following keys:\n",
    "- source\n",
    "- page (if in mode *page*)\n",
    "- total_page\n",
    "- creationdate\n",
    "- creator\n",
    "- producer\n",
    "\n",
    "Additional metadata are specific to each parser.\n",
    "These pieces of information can be helpful (to categorize your PDFs for example)."
   ]
  },
  {
   "cell_type": "markdown",
   "metadata": {},
   "source": [
    "## Splitting mode & custom pages delimiter"
   ]
  },
  {
   "cell_type": "markdown",
   "metadata": {},
   "source": [
    "When loading the PDF file you can split it in two different ways:\n",
    "- By page\n",
    "- As a single text flow\n",
    "\n",
    "By default PDFPlumberLoader will split the PDF by page."
   ]
  },
  {
   "cell_type": "markdown",
   "metadata": {},
   "source": [
    "### Extract the PDF by page. Each page is extracted as a langchain Document object:"
   ]
  },
  {
   "cell_type": "code",
   "execution_count": 8,
   "metadata": {
    "ExecuteTime": {
     "end_time": "2025-01-17T11:06:53.613494Z",
     "start_time": "2025-01-17T11:06:53.563930Z"
    }
   },
   "outputs": [
    {
     "name": "stdout",
     "output_type": "stream",
     "text": [
      "16\n",
      "{'producer': 'pdfTeX-1.40.21',\n",
      " 'creator': 'LaTeX with hyperref',\n",
      " 'creationdate': '2021-06-22T01:27:10+00:00',\n",
      " 'source': './example_data/layout-parser-paper.pdf',\n",
      " 'file_path': './example_data/layout-parser-paper.pdf',\n",
      " 'total_pages': 16,\n",
      " 'format': 'PDF 1.5',\n",
      " 'title': '',\n",
      " 'author': '',\n",
      " 'subject': '',\n",
      " 'keywords': '',\n",
      " 'moddate': '2021-06-22T01:27:10+00:00',\n",
      " 'trapped': '',\n",
      " 'page': 0}\n"
     ]
    }
   ],
   "source": [
    "loader = PyMuPDFLoader(\n",
    "    \"./example_data/layout-parser-paper.pdf\",\n",
    "    mode=\"page\",\n",
    ")\n",
    "docs = loader.load()\n",
    "print(len(docs))\n",
    "pprint.pp(docs[0].metadata)"
   ]
  },
  {
   "cell_type": "markdown",
   "metadata": {},
   "source": [
    "In this mode the pdf is split by pages and the resulting Documents metadata contains the page number. But in some cases we could want to process the pdf as a single text flow (so we don't cut some paragraphs in half). In this case you can use the *single* mode :"
   ]
  },
  {
   "cell_type": "markdown",
   "metadata": {},
   "source": [
    "### Extract the whole PDF as a single langchain Document object:"
   ]
  },
  {
   "cell_type": "code",
   "execution_count": 9,
   "metadata": {
    "ExecuteTime": {
     "end_time": "2025-01-17T11:06:55.955935Z",
     "start_time": "2025-01-17T11:06:55.903604Z"
    }
   },
   "outputs": [
    {
     "name": "stdout",
     "output_type": "stream",
     "text": [
      "1\n",
      "{'producer': 'pdfTeX-1.40.21',\n",
      " 'creator': 'LaTeX with hyperref',\n",
      " 'creationdate': '2021-06-22T01:27:10+00:00',\n",
      " 'source': './example_data/layout-parser-paper.pdf',\n",
      " 'file_path': './example_data/layout-parser-paper.pdf',\n",
      " 'total_pages': 16,\n",
      " 'format': 'PDF 1.5',\n",
      " 'title': '',\n",
      " 'author': '',\n",
      " 'subject': '',\n",
      " 'keywords': '',\n",
      " 'moddate': '2021-06-22T01:27:10+00:00',\n",
      " 'trapped': ''}\n"
     ]
    }
   ],
   "source": [
    "loader = PyMuPDFLoader(\n",
    "    \"./example_data/layout-parser-paper.pdf\",\n",
    "    mode=\"single\",\n",
    ")\n",
    "docs = loader.load()\n",
    "print(len(docs))\n",
    "pprint.pp(docs[0].metadata)"
   ]
  },
  {
   "cell_type": "markdown",
   "metadata": {},
   "source": [
    "Logically, in this mode, the ‘page_number’ metadata disappears. Here's how to clearly identify where pages end in the text flow :"
   ]
  },
  {
   "cell_type": "markdown",
   "metadata": {},
   "source": [
    "### Add a custom *pages_delimiter* to identify where are ends of pages in *single* mode:"
   ]
  },
  {
   "cell_type": "code",
   "execution_count": 10,
   "metadata": {
    "ExecuteTime": {
     "end_time": "2025-01-17T11:07:31.932597Z",
     "start_time": "2025-01-17T11:07:31.885499Z"
    }
   },
   "outputs": [
    {
     "name": "stdout",
     "output_type": "stream",
     "text": [
      "LayoutParser: A Uniﬁed Toolkit for Deep\n",
      "Learning Based Document Image Analysis\n",
      "Zejiang Shen1 (\u0000), Ruochen Zhang2, Melissa Dell3, Benjamin Charles Germain\n",
      "Lee4, Jacob Carlson3, and Weining Li5\n",
      "1 Allen Institute for AI\n",
      "shannons@allenai.org\n",
      "2 Brown University\n",
      "ruochen zhang@brown.edu\n",
      "3 Harvard University\n",
      "{melissadell,jacob carlson}@fas.harvard.edu\n",
      "4 University of Washington\n",
      "bcgl@cs.washington.edu\n",
      "5 University of Waterloo\n",
      "w422li@uwaterloo.ca\n",
      "Abstract. Recent advances in document image analysis (DIA) have been\n",
      "primarily driven by the application of neural networks. Ideally, research\n",
      "outcomes could be easily deployed in production and extended for further\n",
      "investigation. However, various factors like loosely organized codebases\n",
      "and sophisticated model conﬁgurations complicate the easy reuse of im-\n",
      "portant innovations by a wide audience. Though there have been on-going\n",
      "eﬀorts to improve reusability and simplify deep learning (DL) model\n",
      "development in disciplines like natural language processing and computer\n",
      "vision, none of them are optimized for challenges in the domain of DIA.\n",
      "This represents a major gap in the existing toolkit, as DIA is central to\n",
      "academic research across a wide range of disciplines in the social sciences\n",
      "and humanities. This paper introduces LayoutParser, an open-source\n",
      "library for streamlining the usage of DL in DIA research and applica-\n",
      "tions. The core LayoutParser library comes with a set of simple and\n",
      "intuitive interfaces for applying and customizing DL models for layout de-\n",
      "tection, character recognition, and many other document processing tasks.\n",
      "To promote extensibility, LayoutParser also incorporates a community\n",
      "platform for sharing both pre-trained models and full document digiti-\n",
      "zation pipelines. We demonstrate that LayoutParser is helpful for both\n",
      "lightweight and large-scale digitization pipelines in real-word use cases.\n",
      "The library is publicly available at https://layout-parser.github.io.\n",
      "Keywords: Document Image Analysis · Deep Learning · Layout Analysis\n",
      "· Character Recognition · Open Source library · Toolkit.\n",
      "1\n",
      "Introduction\n",
      "Deep Learning(DL)-based approaches are the state-of-the-art for a wide range of\n",
      "document image analysis (DIA) tasks including document image classiﬁcation [11,\n",
      "arXiv:2103.15348v2  [cs.CV]  21 Jun 2021\n",
      "-------THIS IS A CUSTOM END OF PAGE-------\n",
      "2\n",
      "Z. Shen et al.\n",
      "37], layout detection [38, 22], table detection [26], and scene text detection [4].\n",
      "A generalized learning-based framework dramatically reduces the need for the\n",
      "manual speciﬁcation of complicated rules, which is the status quo with traditional\n",
      "methods. DL has the potential to transform DIA pipelines and beneﬁt a broad\n",
      "spectrum of large-scale document digitization projects.\n",
      "However, there are several practical diﬃculties for taking advantages of re-\n",
      "cent advances in DL-based methods: 1) DL models are notoriously convoluted\n",
      "for reuse and extension. Existing models are developed using distinct frame-\n",
      "works like TensorFlow [1] or PyTorch [24], and the high-level parameters can\n",
      "be obfuscated by implementation details [8]. It can be a time-consuming and\n",
      "frustrating experience to debug, reproduce, and adapt existing models for DIA,\n",
      "and many researchers who would beneﬁt the most from using these methods lack\n",
      "the technical background to implement them from scratch. 2) Document images\n",
      "contain diverse and disparate patterns across domains, and customized training\n",
      "is often required to achieve a desirable detection accuracy. Currently there is no\n",
      "full-ﬂedged infrastructure for easily curating the target document image datasets\n",
      "and ﬁne-tuning or re-training the models. 3) DIA usually requires a sequence of\n",
      "models and other processing to obtain the ﬁnal outputs. Often research teams use\n",
      "DL models and then perform further document analyses in separate processes,\n",
      "and these pipelines are not documented in any central location (and often not\n",
      "documented at all). This makes it diﬃcult for research teams to learn about how\n",
      "full pipelines are implemented and leads them to invest signiﬁcant resources in\n",
      "reinventing the DIA wheel.\n",
      "LayoutParser provides a uniﬁed toolkit to support DL-based document image\n",
      "analysis and processing. To address the aforementioned challenges, LayoutParser\n",
      "is built with the following components:\n",
      "1. An oﬀ-the-shelf toolkit for applying DL models for layout detection, character\n",
      "recognition, and other DIA tasks (Section 3)\n",
      "2. A rich repository of pre-trained neural network models (Model Zoo) that\n",
      "underlies the oﬀ-the-shelf usage\n",
      "3. Comprehensive tools for eﬃcient document image data annotation and model\n",
      "tuning to support diﬀerent levels of customization\n",
      "4. A DL model hub and community platform for the easy sharing, distribu-\n",
      "tion, and discussion of DIA models and pipelines, to promote reusability,\n",
      "reproducibility, and extensibility (Section 4)\n",
      "The library implements simple and intuitive Python APIs without sacriﬁcing\n",
      "generalizability and versatility, and can be easily installed via pip. Its convenient\n",
      "functions for handling document image data can be seamlessly integrated with\n",
      "existing DIA pipelines. With detailed documentations and carefully curated\n",
      "tutorials, we hope this tool will beneﬁt a variety of end-users, and will lead to\n",
      "advances in applications in both industry and academic research.\n",
      "LayoutParser is well aligned with recent eﬀorts for improving DL model\n",
      "reusability in other disciplines like natural language processing [8, 34] and com-\n",
      "puter vision [35], but with a focus on unique challenges in DIA. We show\n",
      "LayoutParser can be applied in sophisticated and large-scale digitization projects\n",
      "-------THIS IS A CUSTOM END OF PAGE-------\n",
      "LayoutParser: A Uniﬁed Toolkit for DL-Based DIA\n",
      "3\n",
      "that require precision, eﬃciency, and robustness, as well as simple and light-\n",
      "weigh\n"
     ]
    }
   ],
   "source": [
    "loader = PyMuPDFLoader(\n",
    "    \"./example_data/layout-parser-paper.pdf\",\n",
    "    mode=\"single\",\n",
    "    pages_delimiter=\"\\n-------THIS IS A CUSTOM END OF PAGE-------\\n\",\n",
    ")\n",
    "docs = loader.load()\n",
    "print(docs[0].page_content[:5780])"
   ]
  },
  {
   "cell_type": "markdown",
   "metadata": {},
   "source": [
    "This could simply be \\n, or \\f to clearly indicate a page change, or \\<!-- PAGE BREAK --> for seamless injection in a Markdown viewer without a visual effect."
   ]
  },
  {
   "cell_type": "markdown",
   "metadata": {},
   "source": [
    "# Extract images from the PDF"
   ]
  },
  {
   "cell_type": "markdown",
   "metadata": {},
   "source": [
    "You can extract images from your PDFs with a choice of three different solutions:\n",
    "- rapidOCR (lightweight Optical Character Recognition tool)\n",
    "- Tesseract (OCR tool with high precision)\n",
    "- Multimodal language model\n",
    "\n",
    "You can tune these functions to choose the output format of the extracted images among *html*, *markdown* or *text*\n",
    "\n",
    "The result is inserted between the last and the second-to-last paragraphs of text of the page."
   ]
  },
  {
   "cell_type": "markdown",
   "metadata": {},
   "source": [
    "### Extract images from the PDF with rapidOCR:"
   ]
  },
  {
   "cell_type": "code",
   "execution_count": 11,
   "metadata": {
    "ExecuteTime": {
     "end_time": "2025-01-17T11:07:39.281686Z",
     "start_time": "2025-01-17T11:07:37.500638Z"
    }
   },
   "outputs": [
    {
     "name": "stdout",
     "output_type": "stream",
     "text": [
      "Note: you may need to restart the kernel to use updated packages.\n"
     ]
    }
   ],
   "source": [
    "%pip install -qU rapidocr-onnxruntime"
   ]
  },
  {
   "cell_type": "code",
   "execution_count": 13,
   "metadata": {
    "ExecuteTime": {
     "end_time": "2025-01-17T11:08:46.036783Z",
     "start_time": "2025-01-17T11:08:22.713011Z"
    },
    "scrolled": true
   },
   "outputs": [
    {
     "name": "stdout",
     "output_type": "stream",
     "text": [
      "6\n",
      "Z. Shen et al.\n",
      "Fig. 2: The relationship between the three types of layout data structures.\n",
      "Coordinate supports three kinds of variation; TextBlock consists of the co-\n",
      "ordinate information and extra features like block text, types, and reading orders;\n",
      "a Layout object is a list of all possible layout elements, including other Layout\n",
      "objects. They all support the same set of transformation and operation APIs for\n",
      "maximum ﬂexibility.\n",
      "Shown in Table 1, LayoutParser currently hosts 9 pre-trained models trained\n",
      "on 5 diﬀerent datasets. Description of the training dataset is provided alongside\n",
      "with the trained models such that users can quickly identify the most suitable\n",
      "models for their tasks. Additionally, when such a model is not readily available,\n",
      "LayoutParser also supports training customized layout models and community\n",
      "sharing of the models (detailed in Section 3.5).\n",
      "3.2\n",
      "Layout Data Structures\n",
      "A critical feature of LayoutParser is the implementation of a series of data\n",
      "structures and operations that can be used to eﬃciently process and manipulate\n",
      "the layout elements. In document image analysis pipelines, various post-processing\n",
      "on the layout analysis model outputs is usually required to obtain the ﬁnal\n",
      "outputs. Traditionally, this requires exporting DL model outputs and then loading\n",
      "the results into other pipelines. All model outputs from LayoutParser will be\n",
      "stored in carefully engineered data types optimized for further processing, which\n",
      "makes it possible to build an end-to-end document digitization pipeline within\n",
      "LayoutParser. There are three key components in the data structure, namely\n",
      "the Coordinate system, the TextBlock, and the Layout. They provide diﬀerent\n",
      "levels of abstraction for the layout data, and a set of APIs are supported for\n",
      "transformations or operations on these classes.\n",
      "\n",
      "\n",
      "\n",
      "\n",
      "![Coordinate\n",
      "(x1, y1)\n",
      "(X1, y1)\n",
      "(x2,y2)\n",
      "APIS\n",
      "x-interval\n",
      "tart\n",
      "end\n",
      "Quadrilateral\n",
      "operation\n",
      "Rectangle\n",
      "y-interval\n",
      "ena\n",
      "(x2, y2)\n",
      "(x4, y4)\n",
      "(x3, y3)\n",
      "and\n",
      "textblock\n",
      "Coordinate\n",
      "transformation\n",
      "+\n",
      "Block\n",
      "Block\n",
      "Reading\n",
      "Extra features\n",
      "Text\n",
      "Type\n",
      "Order\n",
      "coordinatel\n",
      "textblockl\n",
      "layout\n",
      " same\n",
      "textblock2\n",
      "layoutl\n",
      "The\n",
      "A list of the layout elements](#)\n"
     ]
    }
   ],
   "source": [
    "from langchain_community.document_loaders.parsers import RapidOCRBlobParser\n",
    "\n",
    "loader = PyMuPDFLoader(\n",
    "    \"./example_data/layout-parser-paper.pdf\",\n",
    "    mode=\"page\",\n",
    "    images_inner_format=\"markdown-img\",\n",
    "    images_parser=RapidOCRBlobParser(),\n",
    ")\n",
    "docs = loader.load()\n",
    "\n",
    "print(docs[5].page_content)"
   ]
  },
  {
   "cell_type": "markdown",
   "metadata": {},
   "source": [
    "Be careful, RapidOCR is designed to work with Chinese and English, not other languages."
   ]
  },
  {
   "cell_type": "markdown",
   "metadata": {},
   "source": [
    "### Extract images from the PDF with Tesseract:"
   ]
  },
  {
   "cell_type": "code",
   "execution_count": 14,
   "metadata": {
    "ExecuteTime": {
     "end_time": "2025-01-17T11:08:53.698734Z",
     "start_time": "2025-01-17T11:08:52.248547Z"
    }
   },
   "outputs": [
    {
     "name": "stdout",
     "output_type": "stream",
     "text": [
      "Note: you may need to restart the kernel to use updated packages.\n"
     ]
    }
   ],
   "source": [
    "%pip install -qU pytesseract"
   ]
  },
  {
   "cell_type": "code",
   "execution_count": 15,
   "metadata": {
    "ExecuteTime": {
     "end_time": "2025-01-17T11:09:03.699153Z",
     "start_time": "2025-01-17T11:08:55.660127Z"
    }
   },
   "outputs": [
    {
     "name": "stdout",
     "output_type": "stream",
     "text": [
      "6\n",
      "Z. Shen et al.\n",
      "Fig. 2: The relationship between the three types of layout data structures.\n",
      "Coordinate supports three kinds of variation; TextBlock consists of the co-\n",
      "ordinate information and extra features like block text, types, and reading orders;\n",
      "a Layout object is a list of all possible layout elements, including other Layout\n",
      "objects. They all support the same set of transformation and operation APIs for\n",
      "maximum ﬂexibility.\n",
      "Shown in Table 1, LayoutParser currently hosts 9 pre-trained models trained\n",
      "on 5 diﬀerent datasets. Description of the training dataset is provided alongside\n",
      "with the trained models such that users can quickly identify the most suitable\n",
      "models for their tasks. Additionally, when such a model is not readily available,\n",
      "LayoutParser also supports training customized layout models and community\n",
      "sharing of the models (detailed in Section 3.5).\n",
      "3.2\n",
      "Layout Data Structures\n",
      "A critical feature of LayoutParser is the implementation of a series of data\n",
      "structures and operations that can be used to eﬃciently process and manipulate\n",
      "the layout elements. In document image analysis pipelines, various post-processing\n",
      "on the layout analysis model outputs is usually required to obtain the ﬁnal\n",
      "outputs. Traditionally, this requires exporting DL model outputs and then loading\n",
      "the results into other pipelines. All model outputs from LayoutParser will be\n",
      "stored in carefully engineered data types optimized for further processing, which\n",
      "makes it possible to build an end-to-end document digitization pipeline within\n",
      "LayoutParser. There are three key components in the data structure, namely\n",
      "the Coordinate system, the TextBlock, and the Layout. They provide diﬀerent\n",
      "levels of abstraction for the layout data, and a set of APIs are supported for\n",
      "transformations or operations on these classes.\n",
      "\n",
      "\n",
      "\n",
      "\n",
      "<img alt=\"Coordinate\n",
      "\n",
      "textblock\n",
      "\n",
      "x-interval\n",
      "\n",
      "JeAsaqul-A\n",
      "\n",
      "Coordinate\n",
      "+\n",
      "\n",
      "Extra features\n",
      "\n",
      "Rectangle\n",
      "\n",
      "Quadrilateral\n",
      "\n",
      "Block\n",
      "Text\n",
      "\n",
      "Block\n",
      "Type\n",
      "\n",
      "Reading\n",
      "Order\n",
      "\n",
      "layout\n",
      "\n",
      "[ coordinatel textblock1 |\n",
      "&#x27;\n",
      "\n",
      "“y textblock2 , layout1 ]\n",
      "\n",
      "A list of the layout elements\n",
      "\n",
      "The same transformation and operation APIs src=\"#\" />\n"
     ]
    }
   ],
   "source": [
    "from langchain_community.document_loaders.parsers import TesseractBlobParser\n",
    "\n",
    "loader = PyMuPDFLoader(\n",
    "    \"./example_data/layout-parser-paper.pdf\",\n",
    "    mode=\"page\",\n",
    "    images_inner_format=\"html-img\",\n",
    "    images_parser=TesseractBlobParser(),\n",
    ")\n",
    "docs = loader.load()\n",
    "print(docs[5].page_content)"
   ]
  },
  {
   "cell_type": "markdown",
   "metadata": {},
   "source": [
    "### Extract images from the PDF with multimodal model:"
   ]
  },
  {
   "cell_type": "code",
   "execution_count": 16,
   "metadata": {
    "ExecuteTime": {
     "end_time": "2025-01-17T11:09:08.637429Z",
     "start_time": "2025-01-17T11:09:07.177157Z"
    }
   },
   "outputs": [
    {
     "name": "stdout",
     "output_type": "stream",
     "text": [
      "Note: you may need to restart the kernel to use updated packages.\n"
     ]
    }
   ],
   "source": [
    "%pip install -qU langchain_openai"
   ]
  },
  {
   "cell_type": "code",
   "execution_count": 17,
   "metadata": {
    "ExecuteTime": {
     "end_time": "2025-01-17T11:09:09.670266Z",
     "start_time": "2025-01-17T11:09:09.634422Z"
    }
   },
   "outputs": [
    {
     "data": {
      "text/plain": [
       "True"
      ]
     },
     "execution_count": 17,
     "metadata": {},
     "output_type": "execute_result"
    }
   ],
   "source": [
    "import os\n",
    "\n",
    "from dotenv import load_dotenv\n",
    "\n",
    "load_dotenv()"
   ]
  },
  {
   "cell_type": "code",
   "execution_count": 18,
   "metadata": {
    "ExecuteTime": {
     "end_time": "2025-01-17T11:09:11.652399Z",
     "start_time": "2025-01-17T11:09:11.649497Z"
    }
   },
   "outputs": [],
   "source": [
    "from getpass import getpass\n",
    "\n",
    "if not os.environ.get(\"OPENAI_API_KEY\"):\n",
    "    os.environ[\"OPENAI_API_KEY\"] = getpass(\"OpenAI API key =\")"
   ]
  },
  {
   "cell_type": "code",
   "execution_count": 19,
   "metadata": {
    "ExecuteTime": {
     "end_time": "2025-01-17T12:46:33.398682Z",
     "start_time": "2025-01-17T11:09:14.102369Z"
    }
   },
   "outputs": [
    {
     "name": "stdout",
     "output_type": "stream",
     "text": [
      "6\n",
      "Z. Shen et al.\n",
      "Fig. 2: The relationship between the three types of layout data structures.\n",
      "Coordinate supports three kinds of variation; TextBlock consists of the co-\n",
      "ordinate information and extra features like block text, types, and reading orders;\n",
      "a Layout object is a list of all possible layout elements, including other Layout\n",
      "objects. They all support the same set of transformation and operation APIs for\n",
      "maximum ﬂexibility.\n",
      "Shown in Table 1, LayoutParser currently hosts 9 pre-trained models trained\n",
      "on 5 diﬀerent datasets. Description of the training dataset is provided alongside\n",
      "with the trained models such that users can quickly identify the most suitable\n",
      "models for their tasks. Additionally, when such a model is not readily available,\n",
      "LayoutParser also supports training customized layout models and community\n",
      "sharing of the models (detailed in Section 3.5).\n",
      "3.2\n",
      "Layout Data Structures\n",
      "A critical feature of LayoutParser is the implementation of a series of data\n",
      "structures and operations that can be used to eﬃciently process and manipulate\n",
      "the layout elements. In document image analysis pipelines, various post-processing\n",
      "on the layout analysis model outputs is usually required to obtain the ﬁnal\n",
      "outputs. Traditionally, this requires exporting DL model outputs and then loading\n",
      "the results into other pipelines. All model outputs from LayoutParser will be\n",
      "stored in carefully engineered data types optimized for further processing, which\n",
      "makes it possible to build an end-to-end document digitization pipeline within\n",
      "LayoutParser. There are three key components in the data structure, namely\n",
      "the Coordinate system, the TextBlock, and the Layout. They provide diﬀerent\n",
      "levels of abstraction for the layout data, and a set of APIs are supported for\n",
      "transformations or operations on these classes.\n",
      "\n",
      "\n",
      "\n",
      "\n",
      "![**Image Summary:** Diagram illustrating coordinate systems and textblock features in layout processing. Includes intervals, rectangles, quadrilaterals, and extra features. Textblock elements feature block text, type, and reading order, all transformed by the same APIs.\n",
      "\n",
      "**Extracted Text:**\n",
      "\n",
      "Coordinate\n",
      "Coordinate\n",
      "\n",
      "start\n",
      "\n",
      "start\n",
      "\n",
      "x-interval\n",
      "\n",
      "end\n",
      "\n",
      "y-interval\n",
      "\n",
      "end\n",
      "\n",
      "(x1, y1)\n",
      "\n",
      "Rectangle\n",
      "\n",
      "(x2, y2)\n",
      "\n",
      "(x1, y1)\n",
      "\n",
      "Quadrilateral\n",
      "\n",
      "(x2, y2)\n",
      "\n",
      "(x4, y4)\n",
      "\n",
      "(x3, y3)\n",
      "\n",
      "→\n",
      "\n",
      "The same transformation and operation APIs\n",
      "\n",
      "textblock\n",
      "\n",
      "Coordinate\n",
      "\n",
      "+\n",
      "\n",
      "Extra features\n",
      "\n",
      "Block Text\n",
      "\n",
      "Block Type\n",
      "\n",
      "Reading Order\n",
      "\n",
      "...\n",
      "\n",
      "→\n",
      "\n",
      "layout\n",
      "\n",
      "[ coordinate1, textblock1, ...\n",
      "\n",
      "..., textblock2, layout1 \\\\]\n",
      "\n",
      "A list of the layout elements](#)\n"
     ]
    }
   ],
   "source": [
    "from langchain_community.document_loaders.parsers import LLMImageBlobParser\n",
    "from langchain_openai import ChatOpenAI\n",
    "\n",
    "loader = PyMuPDFLoader(\n",
    "    \"./example_data/layout-parser-paper.pdf\",\n",
    "    mode=\"page\",\n",
    "    images_inner_format=\"markdown-img\",\n",
    "    images_parser=LLMImageBlobParser(model=ChatOpenAI(model=\"gpt-4o\", max_tokens=1024)),\n",
    ")\n",
    "docs = loader.load()\n",
    "print(docs[5].page_content)"
   ]
  },
  {
   "cell_type": "markdown",
   "metadata": {},
   "source": [
    "# Extract tables from the PDF"
   ]
  },
  {
   "cell_type": "markdown",
   "metadata": {},
   "source": [
    "With PyMUPDF you can extract tables from your PDFs in *html*, *markdown* or *csv* format :"
   ]
  },
  {
   "cell_type": "code",
   "execution_count": 49,
   "metadata": {
    "ExecuteTime": {
     "end_time": "2025-01-17T13:49:21.098861Z",
     "start_time": "2025-01-17T13:49:19.786166Z"
    }
   },
   "outputs": [
    {
     "name": "stdout",
     "output_type": "stream",
     "text": [
      "LayoutParser: A Uniﬁed Toolkit for DL-Based DIA\n",
      "5\n",
      "Table 1: Current layout detection models in the LayoutParser model zoo\n",
      "Dataset\n",
      "Base Model1 Large Model\n",
      "Notes\n",
      "PubLayNet [38]\n",
      "F / M\n",
      "M\n",
      "Layouts of modern scientiﬁc documents\n",
      "PRImA [3]\n",
      "M\n",
      "-\n",
      "Layouts of scanned modern magazines and scientiﬁc reports\n",
      "Newspaper [17]\n",
      "F\n",
      "-\n",
      "Layouts of scanned US newspapers from the 20th century\n",
      "TableBank [18]\n",
      "F\n",
      "F\n",
      "Table region on modern scientiﬁc and business document\n",
      "HJDataset [31]\n",
      "F / M\n",
      "-\n",
      "Layouts of history Japanese documents\n",
      "1 For each dataset, we train several models of diﬀerent sizes for diﬀerent needs (the trade-oﬀbetween accuracy\n",
      "vs. computational cost). For “base model” and “large model”, we refer to using the ResNet 50 or ResNet 101\n",
      "backbones [13], respectively. One can train models of diﬀerent architectures, like Faster R-CNN [28] (F) and Mask\n",
      "R-CNN [12] (M). For example, an F in the Large Model column indicates it has a Faster R-CNN model trained\n",
      "using the ResNet 101 backbone. The platform is maintained and a number of additions will be made to the model\n",
      "zoo in coming months.\n",
      "layout data structures, which are optimized for eﬃciency and versatility. 3) When\n",
      "necessary, users can employ existing or customized OCR models via the uniﬁed\n",
      "API provided in the OCR module. 4) LayoutParser comes with a set of utility\n",
      "functions for the visualization and storage of the layout data. 5) LayoutParser\n",
      "is also highly customizable, via its integration with functions for layout data\n",
      "annotation and model training. We now provide detailed descriptions for each\n",
      "component.\n",
      "3.1\n",
      "Layout Detection Models\n",
      "In LayoutParser, a layout model takes a document image as an input and\n",
      "generates a list of rectangular boxes for the target content regions. Diﬀerent\n",
      "from traditional methods, it relies on deep convolutional neural networks rather\n",
      "than manually curated rules to identify content regions. It is formulated as an\n",
      "object detection problem and state-of-the-art models like Faster R-CNN [28] and\n",
      "Mask R-CNN [12] are used. This yields prediction results of high accuracy and\n",
      "makes it possible to build a concise, generalized interface for layout detection.\n",
      "LayoutParser, built upon Detectron2 [35], provides a minimal API that can\n",
      "perform layout detection with only four lines of code in Python:\n",
      "1 import\n",
      "layoutparser as lp\n",
      "2 image = cv2.imread(\"image_file\") # load\n",
      "images\n",
      "3 model = lp. Detectron2LayoutModel (\n",
      "4\n",
      "\"lp:// PubLayNet/ faster_rcnn_R_50_FPN_3x /config\")\n",
      "5 layout = model.detect(image)\n",
      "LayoutParser provides a wealth of pre-trained model weights using various\n",
      "datasets covering diﬀerent languages, time periods, and document types. Due to\n",
      "domain shift [7], the prediction performance can notably drop when models are ap-\n",
      "plied to target samples that are signiﬁcantly diﬀerent from the training dataset. As\n",
      "document structures and layouts vary greatly in diﬀerent domains, it is important\n",
      "to select models trained on a dataset similar to the test samples. A semantic syntax\n",
      "is used for initializing the model weights in LayoutParser, using both the dataset\n",
      "name and model name lp://<dataset-name>/<model-architecture-name>.\n",
      "\n",
      "\n",
      "|Dataset|Base Model1|Large Model|Notes|\n",
      "|---|---|---|---|\n",
      "|PubLayNet [38] PRImA [3] Newspaper [17] TableBank [18] HJDataset [31]|F / M M F F F / M|M &amp;#45; &amp;#45; F &amp;#45;|Layouts of modern scientific documents Layouts of scanned modern magazines and scientific reports Layouts of scanned US newspapers from the 20th century Table region on modern scientific and business document Layouts of history Japanese documents|\n"
     ]
    }
   ],
   "source": [
    "loader = PyMuPDFLoader(\n",
    "    \"./example_data/layout-parser-paper.pdf\",\n",
    "    mode=\"page\",\n",
    "    extract_tables=\"markdown\",\n",
    ")\n",
    "docs = loader.load()\n",
    "print(docs[4].page_content)"
   ]
  },
  {
   "cell_type": "markdown",
   "metadata": {},
   "source": [
    "## Working with Files\n",
    "\n",
    "Many document loaders involve parsing files. The difference between such loaders usually stems from how the file is parsed, rather than how the file is loaded. For example, you can use `open` to read the binary content of either a PDF or a markdown file, but you need different parsing logic to convert that binary data into text.\n",
    "\n",
    "As a result, it can be helpful to decouple the parsing logic from the loading logic, which makes it easier to re-use a given parser regardless of how the data was loaded.\n",
    "You can use this strategy to analyze different files, with the same parsing parameters."
   ]
  },
  {
   "cell_type": "code",
   "execution_count": 21,
   "metadata": {
    "ExecuteTime": {
     "end_time": "2025-01-17T12:46:34.866868Z",
     "start_time": "2025-01-17T12:46:34.819048Z"
    }
   },
   "outputs": [
    {
     "name": "stdout",
     "output_type": "stream",
     "text": [
      "LayoutParser: A Uniﬁed Toolkit for Deep\n",
      "Learning Based Document Image Analysis\n",
      "Zejiang Shen1 (\u0000), Ruochen Zhang2, Melissa Dell3, Benjamin Charles Germain\n",
      "Lee4, Jacob Carlson3, and Weining Li5\n",
      "1 Allen Institute for AI\n",
      "shannons@allenai.org\n",
      "2 Brown University\n",
      "ruochen zhang@brown.edu\n",
      "3 Harvard University\n",
      "{melissadell,jacob carlson}@fas.harvard.edu\n",
      "4 University of Washington\n",
      "bcgl@cs.washington.edu\n",
      "5 University of Waterloo\n",
      "w422li@uwaterloo.ca\n",
      "Abstract. Recent advances in document image analysis (DIA) have been\n",
      "primarily driven by the application of neural networks. Ideally, research\n",
      "outcomes could be easily deployed in production and extended for further\n",
      "investigation. However, various factors like loosely organized codebases\n",
      "and sophisticated model conﬁgurations complicate the easy reuse of im-\n",
      "portant innovations by a wide audience. Though there have been on-going\n",
      "eﬀorts to improve reusability and simplify deep learning (DL) model\n",
      "development in disciplines like natural language processing and computer\n",
      "vision, none of them are optimized for challenges in the domain of DIA.\n",
      "This represents a major gap in the existing toolkit, as DIA is central to\n",
      "academic research across a wide range of disciplines in the social sciences\n",
      "and humanities. This paper introduces LayoutParser, an open-source\n",
      "library for streamlining the usage of DL in DIA research and applica-\n",
      "tions. The core LayoutParser library comes with a set of simple and\n",
      "intuitive interfaces for applying and customizing DL models for layout de-\n",
      "tection, character recognition, and many other document processing tasks.\n",
      "To promote extensibility, LayoutParser also incorporates a community\n",
      "platform for sharing both pre-trained models and full document digiti-\n",
      "zation pipelines. We demonstrate that LayoutParser is helpful for both\n",
      "lightweight and large-scale digitization pipelines in real-word use cases.\n",
      "The library is publicly available at https://layout-parser.github.io.\n",
      "Keywords: Document Image Analysis · Deep Learning · Layout Analysis\n",
      "· Character Recognition · Open Source library · Toolkit.\n",
      "1\n",
      "Introduction\n",
      "Deep Learning(DL)-based approaches are the state-of-the-art for a wide range of\n",
      "document image analysis (DIA) tasks including document image classiﬁcation [11,\n",
      "arXiv:2103.15348v2  [cs.CV]  21 Jun 2021\n",
      "{'producer': 'pdfTeX-1.40.21',\n",
      " 'creator': 'LaTeX with hyperref',\n",
      " 'creationdate': '2021-06-22T01:27:10+00:00',\n",
      " 'source': 'example_data/layout-parser-paper.pdf',\n",
      " 'file_path': 'example_data/layout-parser-paper.pdf',\n",
      " 'total_pages': 16,\n",
      " 'format': 'PDF 1.5',\n",
      " 'title': '',\n",
      " 'author': '',\n",
      " 'subject': '',\n",
      " 'keywords': '',\n",
      " 'moddate': '2021-06-22T01:27:10+00:00',\n",
      " 'trapped': '',\n",
      " 'page': 0}\n"
     ]
    }
   ],
   "source": [
    "from langchain_community.document_loaders import FileSystemBlobLoader\n",
    "from langchain_community.document_loaders.generic import GenericLoader\n",
    "from langchain_community.document_loaders.parsers import PyMuPDFParser\n",
    "\n",
    "loader = GenericLoader(\n",
    "    blob_loader=FileSystemBlobLoader(\n",
    "        path=\"./example_data/\",\n",
    "        glob=\"*.pdf\",\n",
    "    ),\n",
    "    blob_parser=PyMuPDFParser(),\n",
    ")\n",
    "docs = loader.load()\n",
    "print(docs[0].page_content)\n",
    "pprint.pp(docs[0].metadata)"
   ]
  },
  {
   "cell_type": "markdown",
   "metadata": {},
   "source": [
    "It is possible to work with files from cloud storage."
   ]
  },
  {
   "cell_type": "code",
   "execution_count": null,
   "metadata": {},
   "outputs": [],
   "source": [
    "from langchain_community.document_loaders import CloudBlobLoader\n",
    "from langchain_community.document_loaders.generic import GenericLoader\n",
    "\n",
    "loader = GenericLoader(\n",
    "    blob_loader=CloudBlobLoader(\n",
    "        url=\"s3:/mybucket\",  # Supports s3://, az://, gs://, file:// schemes.\n",
    "        glob=\"*.pdf\",\n",
    "    ),\n",
    "    blob_parser=PyMuPDFParser(),\n",
    ")\n",
    "docs = loader.load()\n",
    "print(docs[0].page_content)\n",
    "pprint.pp(docs[0].metadata)"
   ]
  },
  {
   "cell_type": "markdown",
   "metadata": {},
   "source": [
    "## API reference\n",
    "\n",
    "For detailed documentation of all `PyMuPDFLoader` features and configurations head to the API reference: https://python.langchain.com/api_reference/community/document_loaders/langchain_community.document_loaders.pdf.PyMuPDFLoader.html"
   ]
  }
 ],
 "metadata": {
  "kernelspec": {
   "display_name": "Python 3 (ipykernel)",
   "language": "python",
   "name": "python3"
  },
  "language_info": {
   "codemirror_mode": {
    "name": "ipython",
    "version": 3
   },
   "file_extension": ".py",
   "mimetype": "text/x-python",
   "name": "python",
   "nbconvert_exporter": "python",
   "pygments_lexer": "ipython3",
   "version": "3.12.7"
  }
 },
 "nbformat": 4,
 "nbformat_minor": 4
}
